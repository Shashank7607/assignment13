{
 "cells": [
  {
   "cell_type": "code",
   "execution_count": 1,
   "id": "fb846e9f-b61f-49c6-bfe2-ae50511e52e4",
   "metadata": {},
   "outputs": [],
   "source": [
    "#ans 1"
   ]
  },
  {
   "cell_type": "code",
   "execution_count": 2,
   "id": "f1e780f4-a6a6-4d35-bf25-ed8c678de3ae",
   "metadata": {},
   "outputs": [],
   "source": [
    "# A database is a structured collection of data that is organized and stored in a way that enables efficient retrieval and management of data. Databases can be used to store and manage all types of information, from customer data to financial records and inventory lists.\n",
    "\n",
    "# SQL (Structured Query Language) and NoSQL (Not Only SQL) are two different types of database systems that differ in their approach to storing and accessing data. Here are some key differences between SQL and NoSQL databases:\n",
    "\n",
    "# 1. Data structure: SQL databases store data in tables, which consist of rows and columns. Each row represents a single record, and each column represents a specific piece of data. NoSQL databases, on the other hand, use a variety of data models, including document, key-value, column-family, and graph.\n",
    "\n",
    "# 2. Query language: SQL databases use SQL as the primary language for querying data. NoSQL databases use a variety of query languages, including MongoDB Query Language, Cassandra Query Language, and Couchbase Query Language.\n",
    "\n",
    "# 3. Scalability: SQL databases are vertically scalable, which means that they can be scaled up by adding more processing power or memory to a single server. NoSQL databases are horizontally scalable, which means that they can be scaled out by adding more servers to a cluster.\n",
    "\n",
    "# 4. ACID compliance: SQL databases are typically ACID (Atomicity, Consistency, Isolation, Durability) compliant, which means that they ensure that transactions are processed reliably. NoSQL databases may sacrifice some degree of ACID compliance in order to achieve better performance or scalability.\n",
    "\n",
    "# In summary, SQL databases are best suited for structured data that requires complex queries and transactions, while NoSQL databases are better for unstructured data that needs to be processed quickly and easily scaled horizontally."
   ]
  },
  {
   "cell_type": "code",
   "execution_count": 3,
   "id": "d0f2dd55-f506-47e7-95e1-25d6d3e8dea0",
   "metadata": {},
   "outputs": [],
   "source": [
    "#ans 2"
   ]
  },
  {
   "cell_type": "code",
   "execution_count": 4,
   "id": "37b2fcbb-391a-47cf-9bed-e65830959da2",
   "metadata": {},
   "outputs": [],
   "source": [
    "#DDL (Data Definition Language) is a set of SQL statements that are used to create, modify, and delete database structures such as tables, views, indexes, and other schema objects. Here are some common DDL statements and their uses:\n",
    "\n",
    "# 1. CREATE: The CREATE statement is used to create a new database object, such as a table, view, or index. For example, the following SQL statement creates a new table called \"employees\" with columns for employee ID, name, and salary:"
   ]
  },
  {
   "cell_type": "code",
   "execution_count": 12,
   "id": "54903378-962c-4839-a2fc-9b4fc96205dd",
   "metadata": {},
   "outputs": [],
   "source": [
    "create_table = '''\n",
    "CREATE TABLE orders (\n",
    "    order_id INT PRIMARY KEY,\n",
    "    customer_id INT,\n",
    "    order_date DATE,\n",
    "    FOREIGN KEY (customer_id) REFERENCES customers(customer_id)\n",
    ")\n",
    "'''\n"
   ]
  },
  {
   "cell_type": "code",
   "execution_count": 13,
   "id": "794ddf6a-a36a-43c5-91c9-df235015b671",
   "metadata": {},
   "outputs": [],
   "source": [
    "# 2. DROP: The DROP statement is used to delete a database object, such as a table, view, or index. For example, the following SQL statement drops the \"employees\" table:"
   ]
  },
  {
   "cell_type": "code",
   "execution_count": 15,
   "id": "aaabd45f-ed54-49fd-be53-e0936266ff9c",
   "metadata": {},
   "outputs": [],
   "source": [
    "# 3. ALTER: The ALTER statement is used to modify the structure of a database object, such as adding a new column to a table or modifying the data type of an existing column. For example, the following SQL statement adds a new column called \"hire_date\" to the \"employees\" table:"
   ]
  },
  {
   "cell_type": "code",
   "execution_count": 17,
   "id": "b0babc9f-7091-4624-a3ff-fd6d86d20e1c",
   "metadata": {},
   "outputs": [],
   "source": [
    "# 4. TRUNCATE: The TRUNCATE statement is used to delete all data from a table, but it does not delete the table itself. This is useful when you want to quickly clear out a table without dropping and recreating it. For example, the following SQL statement truncates the \"employees\" table:"
   ]
  },
  {
   "cell_type": "code",
   "execution_count": 18,
   "id": "a991ab3a-dabd-4dd1-b768-baa40004bb81",
   "metadata": {},
   "outputs": [],
   "source": [
    "#ans 3"
   ]
  },
  {
   "cell_type": "code",
   "execution_count": 19,
   "id": "6033fae4-c1d0-4e97-be8d-6c606325f10e",
   "metadata": {},
   "outputs": [],
   "source": [
    "#DML (Data Manipulation Language) is a set of SQL statements that are used to modify the data stored in a database. The three main DML statements are INSERT, UPDATE, and DELETE, which are used to add new data, modify existing data, and remove data from a database table, respectively.\n",
    "\n",
    "#Here are some examples of each of these statements in action:\n",
    "\n",
    "# 1. INSERT: The INSERT statement is used to add new data to a table. For example, the following SQL statement adds a new row to a table called \"employees\":"
   ]
  },
  {
   "cell_type": "code",
   "execution_count": 21,
   "id": "ceca7b58-c07c-4e79-acf1-4955e15a3aee",
   "metadata": {},
   "outputs": [],
   "source": [
    "#INSERT INTO employees (emp_id, emp_name, emp_salary) VALUES (1, 'John Smith', 50000);\n"
   ]
  },
  {
   "cell_type": "code",
   "execution_count": 22,
   "id": "ed3ef365-1ca0-4177-9554-4b3af37a54c5",
   "metadata": {},
   "outputs": [],
   "source": [
    "#This statement inserts a new row with values for three columns: emp_id, emp_name, and emp_salary. The values in parentheses correspond to the values being inserted into each column.\n",
    "\n",
    "# 2. UPDATE: The UPDATE statement is used to modify existing data in a table. For example, the following SQL statement updates the salary of an employee with the ID of 1 in the \"employees\" table:"
   ]
  },
  {
   "cell_type": "code",
   "execution_count": 23,
   "id": "920e00f2-ef87-4423-8df0-3c61cfc8c54a",
   "metadata": {},
   "outputs": [],
   "source": [
    "# UPDATE employees SET emp_salary = 55000 WHERE emp_id = 1;\n"
   ]
  },
  {
   "cell_type": "code",
   "execution_count": 24,
   "id": "70772ef9-34c9-4348-a55a-72594e17ded6",
   "metadata": {},
   "outputs": [],
   "source": [
    "#This statement modifies the \"emp_salary\" column for the row where \"emp_id\" equals 1. The \"SET\" keyword is used to specify which column to modify, and the \"WHERE\" keyword is used to specify which row(s) to modify.\n",
    "\n",
    "# 3. DELETE: The DELETE statement is used to remove data from a table. For example, the following SQL statement deletes an employee with the ID of 1 from the \"employees\" table:"
   ]
  },
  {
   "cell_type": "code",
   "execution_count": 25,
   "id": "986e135e-dde6-496b-9f21-6785581d0c2c",
   "metadata": {},
   "outputs": [],
   "source": [
    "# DELETE FROM employees WHERE emp_id = 1;\n"
   ]
  },
  {
   "cell_type": "code",
   "execution_count": 26,
   "id": "ab312e1e-fcb5-486d-bba3-35c079f3ce15",
   "metadata": {},
   "outputs": [],
   "source": [
    "#This statement removes the row(s) from the table where \"emp_id\" equals 1. The \"FROM\" keyword specifies which table to delete data from, and the \"WHERE\" keyword specifies which row(s) to delete.\n",
    "\n",
    "#In summary, DML statements are used to modify the data stored in a database. INSERT is used to add new data to a table, UPDATE is used to modify existing data in a table, and DELETE is used to remove data from a table."
   ]
  },
  {
   "cell_type": "code",
   "execution_count": 27,
   "id": "05ed02c1-3672-4fb3-bc09-2f56611b7dfe",
   "metadata": {},
   "outputs": [],
   "source": [
    "#ans 4"
   ]
  },
  {
   "cell_type": "code",
   "execution_count": 28,
   "id": "f08be662-0c46-41a0-954b-db60fb1f1b76",
   "metadata": {},
   "outputs": [],
   "source": [
    "#DQL (Data Query Language) is a set of SQL statements that are used to retrieve data from a database. The main DQL statement is SELECT, which is used to retrieve data from one or more tables based on specified criteria."
   ]
  },
  {
   "cell_type": "code",
   "execution_count": 30,
   "id": "63696218-250e-42e2-8f37-00a6649af21d",
   "metadata": {},
   "outputs": [],
   "source": [
    "#SELECT emp_id, emp_name, emp_salary FROM employees WHERE emp_salary > 50000;\n"
   ]
  },
  {
   "cell_type": "code",
   "execution_count": 31,
   "id": "4ae33d57-ce39-4b09-9031-056e2de71392",
   "metadata": {},
   "outputs": [],
   "source": [
    "#This statement selects three columns (emp_id, emp_name, and emp_salary) from a table called \"employees\" where the emp_salary column contains values greater than 50,000.\n",
    "\n",
    "#The SELECT statement is composed of several parts:\n",
    "\n",
    "#The SELECT keyword specifies which columns to retrieve data from.\n",
    "#The FROM keyword specifies which table(s) to retrieve data from.\n",
    "#The WHERE keyword specifies which rows to retrieve data from based on specified conditions.\n",
    "#The semicolon at the end of the statement indicates the end of the statement.\n",
    "#In the example above, the SELECT statement retrieves data from the \"employees\" table and only returns rows where the emp_salary column is greater than 50,000. The emp_id, emp_name, and emp_salary columns are returned for those rows."
   ]
  },
  {
   "cell_type": "code",
   "execution_count": 32,
   "id": "4c54aa79-dac9-450b-b602-bb4fa3da17ce",
   "metadata": {},
   "outputs": [],
   "source": [
    "#The SELECT statement can also include various SQL functions and clauses to manipulate and aggregate data, such as GROUP BY, HAVING, ORDER BY, and JOIN. For example, the following SELECT statement groups employees by their department and calculates the average salary for each department:"
   ]
  },
  {
   "cell_type": "code",
   "execution_count": 33,
   "id": "b2d01038-c619-4467-9a44-8dee38a54dbf",
   "metadata": {},
   "outputs": [],
   "source": [
    "#SELECT dept_name, AVG(emp_salary) as avg_salary FROM employees\n",
    "#JOIN departments ON employees.dept_id = departments.dept_id\n",
    "#GROUP BY dept_name;\n"
   ]
  },
  {
   "cell_type": "code",
   "execution_count": 34,
   "id": "6427aa77-0d71-428b-8996-651eee895790",
   "metadata": {},
   "outputs": [],
   "source": [
    "#This statement retrieves data from the \"employees\" table and the \"departments\" table, and groups the employees by their department using the JOIN clause. The AVG function is used to calculate the average emp_salary for each department, and the result is returned as the \"avg_salary\" column for each department.\n",
    "\n",
    "#In summary, SELECT is the main DQL statement used to retrieve data from one or more tables in a database based on specified criteria. It can also include various SQL functions and clauses to manipulate and aggregate data."
   ]
  },
  {
   "cell_type": "code",
   "execution_count": 35,
   "id": "334f67a1-5ee3-47f8-9c95-3d38e7db2d75",
   "metadata": {},
   "outputs": [],
   "source": [
    "#ans 5"
   ]
  },
  {
   "cell_type": "code",
   "execution_count": 36,
   "id": "56e23dd6-1b4f-4649-807c-d7e09ebf3a4f",
   "metadata": {},
   "outputs": [],
   "source": [
    "#A primary key and a foreign key are two types of constraints that are used in a relational database to ensure data integrity and enforce relationships between tables.\n",
    "\n",
    "#A primary key is a unique identifier for a record in a table. It must be a non-null value and cannot be duplicated across multiple records in the same table. A primary key can be a single column or a combination of columns. The primary key is used to identify individual records and is often used as a reference in other tables as a foreign key."
   ]
  },
  {
   "cell_type": "code",
   "execution_count": 38,
   "id": "29cb7f71-c833-42cf-a714-50a9a74fccd3",
   "metadata": {},
   "outputs": [],
   "source": [
    "#A foreign key is a field in one table that refers to the primary key of another table. It is used to establish a relationship between two tables, where the foreign key in one table references the primary key in another table. A foreign key constraint ensures that data entered into the foreign key field must exist in the primary key of the other table, or else the record will not be inserted or updated."
   ]
  },
  {
   "cell_type": "code",
   "execution_count": 39,
   "id": "275f0398-145a-40fa-9f30-4f55ec91f7a2",
   "metadata": {},
   "outputs": [],
   "source": [
    "#In summary, a primary key is a unique identifier for a record in a table, while a foreign key is a field in one table that refers to the primary key of another table. Together, they are used to establish relationships between tables and ensure data integrity in a relational database."
   ]
  },
  {
   "cell_type": "code",
   "execution_count": 40,
   "id": "d45deda1-468e-445b-8a39-92adb20fe5a3",
   "metadata": {},
   "outputs": [],
   "source": [
    "#ans 6"
   ]
  },
  {
   "cell_type": "code",
   "execution_count": 41,
   "id": "266f2221-4f16-46a7-87cc-2fc47e156e5a",
   "metadata": {},
   "outputs": [],
   "source": [
    "#To connect MySQL to Python, you can use the MySQL Connector/Python module. Here is an example code snippet that shows how to establish a connection to a MySQL database using this module:"
   ]
  },
  {
   "cell_type": "code",
   "execution_count": 42,
   "id": "a1ea3220-7250-41a3-a459-48b6d68c220a",
   "metadata": {},
   "outputs": [
    {
     "ename": "ModuleNotFoundError",
     "evalue": "No module named 'mysql'",
     "output_type": "error",
     "traceback": [
      "\u001b[0;31m---------------------------------------------------------------------------\u001b[0m",
      "\u001b[0;31mModuleNotFoundError\u001b[0m                       Traceback (most recent call last)",
      "Cell \u001b[0;32mIn[42], line 1\u001b[0m\n\u001b[0;32m----> 1\u001b[0m \u001b[38;5;28;01mimport\u001b[39;00m \u001b[38;5;21;01mmysql\u001b[39;00m\u001b[38;5;21;01m.\u001b[39;00m\u001b[38;5;21;01mconnector\u001b[39;00m\n\u001b[1;32m      3\u001b[0m \u001b[38;5;66;03m# establish connection to MySQL\u001b[39;00m\n\u001b[1;32m      4\u001b[0m mydb \u001b[38;5;241m=\u001b[39m mysql\u001b[38;5;241m.\u001b[39mconnector\u001b[38;5;241m.\u001b[39mconnect(\n\u001b[1;32m      5\u001b[0m   host\u001b[38;5;241m=\u001b[39m\u001b[38;5;124m\"\u001b[39m\u001b[38;5;124mlocalhost\u001b[39m\u001b[38;5;124m\"\u001b[39m,\n\u001b[1;32m      6\u001b[0m   user\u001b[38;5;241m=\u001b[39m\u001b[38;5;124m\"\u001b[39m\u001b[38;5;124myourusername\u001b[39m\u001b[38;5;124m\"\u001b[39m,\n\u001b[1;32m      7\u001b[0m   password\u001b[38;5;241m=\u001b[39m\u001b[38;5;124m\"\u001b[39m\u001b[38;5;124myourpassword\u001b[39m\u001b[38;5;124m\"\u001b[39m,\n\u001b[1;32m      8\u001b[0m   database\u001b[38;5;241m=\u001b[39m\u001b[38;5;124m\"\u001b[39m\u001b[38;5;124myourdatabase\u001b[39m\u001b[38;5;124m\"\u001b[39m\n\u001b[1;32m      9\u001b[0m )\n",
      "\u001b[0;31mModuleNotFoundError\u001b[0m: No module named 'mysql'"
     ]
    }
   ],
   "source": [
    "import mysql.connector\n",
    "\n",
    "# establish connection to MySQL\n",
    "mydb = mysql.connector.connect(\n",
    "  host=\"localhost\",\n",
    "  user=\"yourusername\",\n",
    "  password=\"yourpassword\",\n",
    "  database=\"yourdatabase\"\n",
    ")\n",
    "\n",
    "# create a cursor object\n",
    "mycursor = mydb.cursor()\n",
    "\n",
    "# execute a SQL query\n",
    "mycursor.execute(\"SELECT * FROM yourtable\")\n",
    "\n",
    "# fetch all rows of the result\n",
    "myresult = mycursor.fetchall()\n",
    "\n",
    "# print the result\n",
    "for row in myresult:\n",
    "  print(row)\n"
   ]
  },
  {
   "cell_type": "code",
   "execution_count": 44,
   "id": "de088c67-3193-40bd-907b-de0b77470933",
   "metadata": {},
   "outputs": [],
   "source": [
    "#In the above code, we first import the MySQL Connector/Python module. We then establish a connection to a MySQL database by specifying the host, user, password, and database parameters in the mysql.connector.connect() function.\n",
    "\n",
    "#After establishing the connection, we create a cursor object using the cursor() method. The cursor object is used to execute SQL queries and fetch results from the database.\n",
    "\n",
    "#We then execute a SQL query using the execute() method of the cursor object. The execute() method takes a SQL query as an argument and executes it on the database.\n",
    "\n",
    "#In this example, we execute a SELECT query that retrieves all rows from a table named \"yourtable\". After executing the query, we use the fetchall() method of the cursor object to fetch all rows of the result.\n",
    "\n",
    "#Finally, we iterate through the rows of the result and print each row to the console.\n",
    "\n",
    "#In summary, the cursor() method creates a cursor object that can be used to execute SQL queries on a MySQL database. The execute() method of the cursor object is used to execute a SQL query, and the fetchall() method is used to retrieve all rows of the result."
   ]
  },
  {
   "cell_type": "code",
   "execution_count": 45,
   "id": "a6ee56e5-fcbe-4188-b8d5-d52240f36d8f",
   "metadata": {},
   "outputs": [],
   "source": [
    "#ans 7 "
   ]
  },
  {
   "cell_type": "code",
   "execution_count": null,
   "id": "dad925c0-ca79-4561-8293-0ab0f34612ea",
   "metadata": {},
   "outputs": [],
   "source": [
    "#In an SQL query, the clauses are executed in the following order:\n",
    "\n",
    "FROM: This clause specifies the tables from which the data is being queried.\n",
    "\n",
    "JOIN: If any tables are being joined, the JOIN clause is executed next.\n",
    "\n",
    "WHERE: This clause specifies any conditions that the data must meet in order to be returned by the query.\n",
    "\n",
    "GROUP BY: This clause groups the data by one or more columns.\n",
    "\n",
    "HAVING: This clause specifies any conditions that the grouped data must meet in order to be returned by the query.\n",
    "\n",
    "SELECT: This clause selects the columns to be returned by the query.\n",
    "\n",
    "DISTINCT: If the DISTINCT keyword is used, the query removes any duplicate rows.\n",
    "\n",
    "ORDER BY: This clause sorts the data by one or more columns.\n",
    "\n",
    "LIMIT: This clause limits the number of rows returned by the query.\n",
    "\n",
    "It's important to note that not all of these clauses are required in every query, and the order may vary depending on the specific query being executed. However, this is the general order of execution that the database follows when processing an SQL query."
   ]
  }
 ],
 "metadata": {
  "kernelspec": {
   "display_name": "Python 3 (ipykernel)",
   "language": "python",
   "name": "python3"
  },
  "language_info": {
   "codemirror_mode": {
    "name": "ipython",
    "version": 3
   },
   "file_extension": ".py",
   "mimetype": "text/x-python",
   "name": "python",
   "nbconvert_exporter": "python",
   "pygments_lexer": "ipython3",
   "version": "3.10.8"
  }
 },
 "nbformat": 4,
 "nbformat_minor": 5
}
